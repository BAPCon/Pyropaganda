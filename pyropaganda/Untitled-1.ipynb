{
 "cells": [
  {
   "cell_type": "code",
   "execution_count": 2,
   "metadata": {},
   "outputs": [],
   "source": [
    "from selenium import webdriver\n",
    "from selenium.webdriver.common.keys import Keys\n",
    "from selenium.webdriver.common.by import By\n",
    "from selenium.webdriver.chrome.options import Options"
   ]
  },
  {
   "cell_type": "code",
   "execution_count": 3,
   "metadata": {},
   "outputs": [
    {
     "name": "stderr",
     "output_type": "stream",
     "text": [
      "C:\\Users\\compu\\AppData\\Local\\Temp\\ipykernel_180644\\3608880965.py:9: DeprecationWarning: executable_path has been deprecated, please pass in a Service object\n",
      "  driver = webdriver.Chrome(\"drivers/chromedriver\", chrome_options = chrome_options)\n",
      "C:\\Users\\compu\\AppData\\Local\\Temp\\ipykernel_180644\\3608880965.py:9: DeprecationWarning: use options instead of chrome_options\n",
      "  driver = webdriver.Chrome(\"drivers/chromedriver\", chrome_options = chrome_options)\n"
     ]
    }
   ],
   "source": [
    "mobile_emulation = { \"deviceName\": \"Nexus 5\" }\n",
    "chrome_options = webdriver.ChromeOptions()\n",
    "chrome_options.add_experimental_option(\"mobileEmulation\", mobile_emulation)\n",
    "mobile_emulation = {\n",
    "    \"deviceMetrics\": { \"width\": 360, \"height\": 640, \"pixelRatio\": 3.0 },\n",
    "    \"userAgent\": \"Mozilla/5.0 (Linux; Android 4.2.1; en-us; Nexus 5 Build/JOP40D) AppleWebKit/535.19 (KHTML, like Gecko) Chrome/18.0.1025.166 Mobile Safari/535.19\" }\n",
    "chrome_options = Options()\n",
    "chrome_options.add_experimental_option(\"mobileEmulation\", mobile_emulation)\n",
    "driver = webdriver.Chrome(\"drivers/chromedriver\", chrome_options = chrome_options)"
   ]
  },
  {
   "cell_type": "code",
   "execution_count": 4,
   "metadata": {},
   "outputs": [],
   "source": [
    "driver.get('https://www.youtube.com')"
   ]
  },
  {
   "cell_type": "code",
   "execution_count": 5,
   "metadata": {},
   "outputs": [
    {
     "name": "stdout",
     "output_type": "stream",
     "text": [
      "Size(width=1920, height=1080)\n"
     ]
    }
   ],
   "source": [
    "import pyautogui\n",
    "print(pyautogui.size())"
   ]
  },
  {
   "cell_type": "code",
   "execution_count": 8,
   "metadata": {},
   "outputs": [],
   "source": [
    "import time\n",
    "import random\n",
    "i = 0\n",
    "total = 0\n",
    "bp = random.randint(50, 500)\n",
    "mpoints = []\n",
    "tmp = []\n",
    "while total < 1000:\n",
    "    time.sleep(.02)\n",
    "    total += 1\n",
    "    i += 1\n",
    "    if i >= bp:\n",
    "        i = 0\n",
    "        bp = random.randint(50, 500)\n",
    "        mpoints.append(tmp)\n",
    "        tmp = []\n",
    "    else:\n",
    "        tmp.append(pyautogui.position())\n",
    "import json\n",
    "_fw = open('movepoints.json',\"w\")\n",
    "_fw.write(json.dumps(mpoints))\n",
    "_fw.close()\n",
    "\n"
   ]
  },
  {
   "cell_type": "code",
   "execution_count": 29,
   "metadata": {},
   "outputs": [],
   "source": [
    "_fw = open('movepoints.json',\"r\").read()\n",
    "_mps = json.loads(_fw)\n",
    "\n",
    "from datetime import datetime\n",
    "start_move = datetime.now()\n",
    "time_limit = random.randint(50,350)/100\n",
    "for _mp in _mps[random.randint(0, len(_mps)-1)]:\n",
    "    mp = _mp\n",
    "    mp[0] = (mp[0] + pyautogui.position()[0] + pyautogui.position()[0])/3\n",
    "    mp[1] = (mp[1] + pyautogui.position()[1] + pyautogui.position()[1])/3\n",
    "    pyautogui.moveTo(mp[0], mp[1], duration=.02)\n",
    "    if (datetime.now() - start_move).total_seconds() >= time_limit:\n",
    "        break\n"
   ]
  },
  {
   "cell_type": "code",
   "execution_count": null,
   "metadata": {},
   "outputs": [],
   "source": [
    "points = [\n",
    "    {'name': 'close_warning',\n",
    "    'point': [1894, 90]\n",
    "    },\n",
    "    {'name': 'login_button',\n",
    "    'point': [337, 140]\n",
    "    },\n",
    "    {\n",
    "        'name': 'click'\n",
    "    },\n",
    "    {\n",
    "        'name': 'signin_button',\n",
    "        'points': [91, 206]\n",
    "    },\n",
    "    {\n",
    "        'name': 'type',\n",
    "        'value': youtube_username\n",
    "    },\n",
    "    {'name': 'submit_button',\n",
    "    'point': [294, 497]\n",
    "    },\n",
    "\n",
    "]"
   ]
  },
  {
   "cell_type": "code",
   "execution_count": 35,
   "metadata": {},
   "outputs": [
    {
     "name": "stdout",
     "output_type": "stream",
     "text": [
      "Point(x=587, y=448)\n",
      "Point(x=609, y=388)\n",
      "Point(x=630, y=408)\n",
      "Point(x=630, y=415)\n",
      "Point(x=166, y=278)\n",
      "Point(x=182, y=274)\n",
      "Point(x=261, y=354)\n",
      "Point(x=307, y=490)\n",
      "Point(x=297, y=500)\n",
      "Point(x=294, y=495)\n",
      "Point(x=302, y=491)\n",
      "Point(x=308, y=496)\n",
      "Point(x=294, y=497)\n",
      "Point(x=285, y=494)\n",
      "Point(x=292, y=492)\n",
      "Point(x=297, y=493)\n",
      "Point(x=298, y=496)\n",
      "Point(x=293, y=490)\n",
      "Point(x=300, y=492)\n",
      "Point(x=293, y=494)\n",
      "Point(x=422, y=369)\n",
      "Point(x=416, y=181)\n"
     ]
    },
    {
     "ename": "KeyboardInterrupt",
     "evalue": "",
     "output_type": "error",
     "traceback": [
      "\u001b[1;31m---------------------------------------------------------------------------\u001b[0m",
      "\u001b[1;31mKeyboardInterrupt\u001b[0m                         Traceback (most recent call last)",
      "Cell \u001b[1;32mIn[35], line 6\u001b[0m\n\u001b[0;32m      4\u001b[0m     \u001b[39mprint\u001b[39m(pyautogui\u001b[39m.\u001b[39mposition())\n\u001b[0;32m      5\u001b[0m     lp \u001b[39m=\u001b[39m pyautogui\u001b[39m.\u001b[39mposition()\n\u001b[1;32m----> 6\u001b[0m time\u001b[39m.\u001b[39;49msleep(\u001b[39m.5\u001b[39;49m)\n",
      "\u001b[1;31mKeyboardInterrupt\u001b[0m: "
     ]
    }
   ],
   "source": [
    "lp = pyautogui.position()\n",
    "while True:\n",
    "    if pyautogui.position() != lp:\n",
    "        print(pyautogui.position())\n",
    "        lp = pyautogui.position()\n",
    "    time.sleep(.5)"
   ]
  }
 ],
 "metadata": {
  "kernelspec": {
   "display_name": ".venv",
   "language": "python",
   "name": "python3"
  },
  "language_info": {
   "codemirror_mode": {
    "name": "ipython",
    "version": 3
   },
   "file_extension": ".py",
   "mimetype": "text/x-python",
   "name": "python",
   "nbconvert_exporter": "python",
   "pygments_lexer": "ipython3",
   "version": "3.10.9"
  },
  "orig_nbformat": 4,
  "vscode": {
   "interpreter": {
    "hash": "d438f79ba92b76b4eba7deca68a1ea834ed258753811d403aea7eccb76a06b52"
   }
  }
 },
 "nbformat": 4,
 "nbformat_minor": 2
}
